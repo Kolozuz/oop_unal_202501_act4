{
 "cells": [
  {
   "cell_type": "markdown",
   "id": "897f4601",
   "metadata": {},
   "source": [
    "## Ejercicio 8.2 (p.480)"
   ]
  },
  {
   "cell_type": "markdown",
   "id": "e3d17e60",
   "metadata": {},
   "source": [
    "### Enunciado"
   ]
  },
  {
   "cell_type": "markdown",
   "id": "0b0f664d",
   "metadata": {},
   "source": [
    "Se requiere desarrollar un programa con interfaz gráfica de usuario que\n",
    "genere una ventana donde se solicite el ingreso de cinco notas obtenidas\n",
    "por un estudiante.\n",
    "El programa debe calcular y mostrar en la parte inferior de la ventana\n",
    "los siguientes datos:\n",
    "- El promedio de notas ingresadas.\n",
    "- La desviación estándar de las notas ingresadas.\n",
    "- La mayor nota obtenida.\n",
    "- La menor nota obtenida."
   ]
  },
  {
   "cell_type": "markdown",
   "id": "176b4ca0",
   "metadata": {},
   "source": [
    "##### Formula para el calculo de la desviación estándar "
   ]
  },
  {
   "cell_type": "markdown",
   "id": "488d979c",
   "metadata": {},
   "source": [
    "$$ \\sigma = \\sqrt{\\sum(x_i-\\mu)^2 \\over N} $$\n",
    "\n",
    "- $ \\sigma $ = desviación estándar\n",
    "- $ N $ = tamaño de la lista\n",
    "- $ x_i $ = cada valor de la lista\n",
    "- $ \\mu $ = media de los valores de la lista"
   ]
  },
  {
   "cell_type": "markdown",
   "id": "ece9e065",
   "metadata": {},
   "source": [
    "### Diagrama de Clases"
   ]
  },
  {
   "cell_type": "markdown",
   "id": "65defbe5",
   "metadata": {},
   "source": [
    "```mermaid\n",
    "classDiagram\n",
    "    class Notas {\n",
    "        listado_notas: list[float]\n",
    "        «constructor»Notas()\n",
    "        calcular_promedio() float\n",
    "        calcular_desviacion_estandar() float\n",
    "        mayor() float\n",
    "        menor() float\n",
    "    }\n",
    "    class VentanaPrincipal {\n",
    "        root: Tk\n",
    "        notas: Notas\n",
    "        «constructor»VentanaPrincipal()\n",
    "        crear_widgets()\n",
    "        calcular_notas()\n",
    "    }\n",
    "    VentanaPrincipal --> Notas\n",
    "```"
   ]
  },
  {
   "cell_type": "markdown",
   "id": "4df8e17d",
   "metadata": {},
   "source": [
    "### Solución"
   ]
  },
  {
   "cell_type": "markdown",
   "id": "8ba21cb3",
   "metadata": {},
   "source": [
    "#### Definición de clases"
   ]
  },
  {
   "cell_type": "code",
   "execution_count": 13,
   "id": "5603d5b6",
   "metadata": {},
   "outputs": [],
   "source": [
    "import math\n",
    "from tkinter import *\n",
    "from tkinter import ttk\n",
    "\n",
    "class Notas:\n",
    "    listado_notas: list[float] = []\n",
    "\n",
    "    def __init__(self):\n",
    "        self.listado_notas = [0 for _ in range(5)]\n",
    "\n",
    "    def calcular_promedio(self) -> float:\n",
    "        return sum(self.listado_notas) / len(self.listado_notas)\n",
    "    \n",
    "    def calcular_desviacion_estandar(self) -> float:\n",
    "        promedio = self.calcular_promedio()\n",
    "        varianza = sum((nota - promedio) ** 2 for nota in self.listado_notas) / len(self.listado_notas)\n",
    "        return math.sqrt(varianza)\n",
    "    \n",
    "    def mayor(self) -> float:\n",
    "        return max(self.listado_notas)\n",
    "\n",
    "    def menor(self) -> float:\n",
    "        return min(self.listado_notas)\n",
    "\n",
    "class VentanaPrincipal:\n",
    "    def __init__(self):\n",
    "        self.root = Tk()\n",
    "        self.root.title(\"Calculadora de Notas\")\n",
    "        self.notas = Notas()\n",
    "        \n",
    "        self.crear_widgets()\n",
    "\n",
    "    def crear_widgets(self):\n",
    "        # Se crea un LabelFrame para agrupar los widgets relacionados con las notas\n",
    "        notas_label_frame = ttk.LabelFrame(self.root, text=\"Notas\")\n",
    "        notas_label_frame.grid(row=0, column=0, columnspan=2, padx=10, pady=10)\n",
    "\n",
    "        # Se crean etiquetas e inputs para las 5 notas\n",
    "        self.labels = [ttk.Label(notas_label_frame, text=f\"Nota {i+1}:\") for i in range(5)]\n",
    "        self.entries = [ttk.Entry(notas_label_frame) for _ in range(5)]\n",
    "        \n",
    "        for i in range(5):\n",
    "            self.labels[i].grid(row=i, column=0, padx=\"10\", pady=\"5\")\n",
    "            self.entries[i].grid(row=i, column=1, padx=\"0 70\")\n",
    "\n",
    "        # Botón para calcular las notas\n",
    "        self.calculate_button = ttk.Button(self.root, text=\"Calcular\", command=self.calcular_notas)\n",
    "        self.calculate_button.grid(row=5, column=0)\n",
    "\n",
    "        # Botón para limpiar las entradas\n",
    "        self.clear_button = ttk.Button(self.root, text=\"Limpiar\", command=self.limpiar_entradas)\n",
    "        self.clear_button.grid(row=5, column=1)\n",
    "\n",
    "        # Crear el contenedor de resultados una sola vez\n",
    "        self.resultado_label_frame = ttk.LabelFrame(self.root, text=\"Resultados\")\n",
    "        self.resultado_label_frame.grid(row=6, column=0, columnspan=2, padx=10, pady=10)\n",
    "        self.result_label = ttk.Label(self.resultado_label_frame, text=\"\", justify=LEFT)\n",
    "        self.result_label.grid(row=6, column=0, columnspan=2, padx=10, pady=10, sticky=W)\n",
    "\n",
    "    def calcular_notas(self):\n",
    "        # Se obtienen las notas de los inputs y se actualiza el listado de notas\n",
    "        for i in range(len(self.notas.listado_notas)):\n",
    "            try:\n",
    "                nota = float(self.entries[i].get())\n",
    "                self.notas.listado_notas[i] = nota\n",
    "            except ValueError:\n",
    "                pass\n",
    "\n",
    "        promedio = self.notas.calcular_promedio()\n",
    "        desviacion_estandar = self.notas.calcular_desviacion_estandar()\n",
    "        mayor = self.notas.mayor()\n",
    "        menor = self.notas.menor()\n",
    "\n",
    "        resultado_texto = (\n",
    "            f\"Promedio: {promedio:.2f}\\n\"\n",
    "            f\"Desviación estándar: {desviacion_estandar:.2f}\\n\"\n",
    "            f\"Mayor: {mayor:.2f}\\n\"\n",
    "            f\"Menor: {menor:.2f}\"\n",
    "        )\n",
    "\n",
    "        self.result_label.config(text=resultado_texto)\n",
    "\n",
    "    def limpiar_entradas(self):\n",
    "        # Se limpian las entradas y el resultado\n",
    "        for entry in self.entries:\n",
    "            entry.delete(0, END)\n",
    "\n",
    "        resultado_texto = (\n",
    "            f\"Promedio: 0.00\\n\"\n",
    "            f\"Desviación estándar: 0.00\\n\"\n",
    "            f\"Mayor: 0.00\\n\"\n",
    "            f\"Menor: 0.00\"\n",
    "        )\n",
    "        self.result_label.config(text=resultado_texto)\n",
    "        self.notas = Notas()\n"
   ]
  },
  {
   "cell_type": "markdown",
   "id": "92188aa5",
   "metadata": {},
   "source": [
    "#### Ejecución del programa"
   ]
  },
  {
   "cell_type": "code",
   "execution_count": 16,
   "id": "edb60910",
   "metadata": {},
   "outputs": [],
   "source": [
    "my_calculator = VentanaPrincipal()\n",
    "\n",
    "my_calculator.root.mainloop()"
   ]
  },
  {
   "attachments": {
    "image-2.png": {
     "image/png": "[encoded data removed]"
    },
    "image.png": {
     "image/png": "[encoded data removed]"
    }
   },
   "cell_type": "markdown",
   "id": "d0b7cf67",
   "metadata": {},
   "source": [
    "**Botón Calcular**\n",
    "\n",
    "![image.png](attachment:image.png)\n",
    "\n",
    "**Botón Limpiar**\n",
    "\n",
    "![image-2.png](attachment:image-2.png)"
   ]
  }
 ],
 "metadata": {
  "kernelspec": {
   "display_name": "env",
   "language": "python",
   "name": "python3"
  },
  "language_info": {
   "codemirror_mode": {
    "name": "ipython",
    "version": 3
   },
   "file_extension": ".py",
   "mimetype": "text/x-python",
   "name": "python",
   "nbconvert_exporter": "python",
   "pygments_lexer": "ipython3",
   "version": "3.12.0"
  }
 },
 "nbformat": 4,
 "nbformat_minor": 5
}
